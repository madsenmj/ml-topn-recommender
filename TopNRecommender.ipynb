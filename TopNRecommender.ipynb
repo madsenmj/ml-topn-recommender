{
 "cells": [
  {
   "cell_type": "markdown",
   "metadata": {},
   "source": [
    "# Top N Recommendations\n"
   ]
  },
  {
   "cell_type": "code",
   "execution_count": 13,
   "metadata": {
    "collapsed": true
   },
   "outputs": [],
   "source": [
    "import pandas as pd\n",
    "import numpy as np\n",
    "import xgboost as xgb\n",
    "from sklearn.model_selection import train_test_split\n",
    "from sklearn.metrics import accuracy_score\n",
    "import pickle\n",
    "import matplotlib.pyplot as plt\n",
    "%matplotlib inline"
   ]
  },
  {
   "cell_type": "markdown",
   "metadata": {},
   "source": [
    "Load the data and make sure that all of the empty strings have been filled."
   ]
  },
  {
   "cell_type": "code",
   "execution_count": 2,
   "metadata": {
    "collapsed": false
   },
   "outputs": [
    {
     "data": {
      "text/html": [
       "<div>\n",
       "<table border=\"1\" class=\"dataframe\">\n",
       "  <thead>\n",
       "    <tr style=\"text-align: right;\">\n",
       "      <th></th>\n",
       "      <th>feature1</th>\n",
       "      <th>feature2</th>\n",
       "      <th>feature3</th>\n",
       "      <th>feature4</th>\n",
       "      <th>feature5</th>\n",
       "      <th>feature6</th>\n",
       "      <th>feature7</th>\n",
       "      <th>feature8</th>\n",
       "      <th>target</th>\n",
       "    </tr>\n",
       "  </thead>\n",
       "  <tbody>\n",
       "    <tr>\n",
       "      <th>0</th>\n",
       "      <td>f10</td>\n",
       "      <td>f20</td>\n",
       "      <td>f30</td>\n",
       "      <td>f40</td>\n",
       "      <td>f50</td>\n",
       "      <td>f60</td>\n",
       "      <td>item0</td>\n",
       "      <td>item0</td>\n",
       "      <td>item1</td>\n",
       "    </tr>\n",
       "    <tr>\n",
       "      <th>1</th>\n",
       "      <td>f11</td>\n",
       "      <td>f20</td>\n",
       "      <td>f31</td>\n",
       "      <td>f41</td>\n",
       "      <td>f51</td>\n",
       "      <td>f60</td>\n",
       "      <td>item0</td>\n",
       "      <td>item0</td>\n",
       "      <td>item1</td>\n",
       "    </tr>\n",
       "    <tr>\n",
       "      <th>2</th>\n",
       "      <td>f11</td>\n",
       "      <td>f20</td>\n",
       "      <td>f31</td>\n",
       "      <td>f41</td>\n",
       "      <td>f51</td>\n",
       "      <td>f60</td>\n",
       "      <td>item1</td>\n",
       "      <td>item0</td>\n",
       "      <td>item2</td>\n",
       "    </tr>\n",
       "    <tr>\n",
       "      <th>3</th>\n",
       "      <td>f11</td>\n",
       "      <td>f20</td>\n",
       "      <td>f31</td>\n",
       "      <td>f41</td>\n",
       "      <td>f51</td>\n",
       "      <td>f60</td>\n",
       "      <td>item2</td>\n",
       "      <td>item1</td>\n",
       "      <td>item3</td>\n",
       "    </tr>\n",
       "    <tr>\n",
       "      <th>4</th>\n",
       "      <td>f11</td>\n",
       "      <td>f20</td>\n",
       "      <td>f31</td>\n",
       "      <td>f41</td>\n",
       "      <td>f51</td>\n",
       "      <td>f60</td>\n",
       "      <td>item3</td>\n",
       "      <td>item2</td>\n",
       "      <td>item4</td>\n",
       "    </tr>\n",
       "  </tbody>\n",
       "</table>\n",
       "</div>"
      ],
      "text/plain": [
       "  feature1 feature2 feature3 feature4 feature5 feature6 feature7 feature8  \\\n",
       "0      f10      f20      f30      f40      f50      f60    item0    item0   \n",
       "1      f11      f20      f31      f41      f51      f60    item0    item0   \n",
       "2      f11      f20      f31      f41      f51      f60    item1    item0   \n",
       "3      f11      f20      f31      f41      f51      f60    item2    item1   \n",
       "4      f11      f20      f31      f41      f51      f60    item3    item2   \n",
       "\n",
       "  target  \n",
       "0  item1  \n",
       "1  item1  \n",
       "2  item2  \n",
       "3  item3  \n",
       "4  item4  "
      ]
     },
     "execution_count": 2,
     "metadata": {},
     "output_type": "execute_result"
    }
   ],
   "source": [
    "df = pd.read_csv('logdata.csv',dtype=str)\n",
    "df = df.fillna('None')\n",
    "df.head()"
   ]
  },
  {
   "cell_type": "markdown",
   "metadata": {},
   "source": [
    "Filter out any target with less than 5 entries"
   ]
  },
  {
   "cell_type": "code",
   "execution_count": 3,
   "metadata": {
    "collapsed": true
   },
   "outputs": [],
   "source": [
    "df = df.groupby('target').filter(lambda x: len(x) >= 5)"
   ]
  },
  {
   "cell_type": "markdown",
   "metadata": {},
   "source": [
    "Build a function to get a dictionary mapper for the factors in the dataframe"
   ]
  },
  {
   "cell_type": "code",
   "execution_count": 4,
   "metadata": {
    "collapsed": true
   },
   "outputs": [],
   "source": [
    "def seqtodict(sequence, start=0):\n",
    "    #transform a sequence to a set of pairs to make into a dictionary\n",
    "    n = start\n",
    "    for elem in sequence:\n",
    "        yield elem,n\n",
    "        n += 1    \n",
    "\n",
    "def getItemDict(itemvalues):\n",
    "    itemvalues = list(itemvalues.unique())\n",
    "    itemdict = {}\n",
    "    if 'None' not in itemvalues:\n",
    "        itemvalues = ['None'] + itemvalues\n",
    "    itemdict = dict( seqtodict(itemvalues))\n",
    "    return itemdict"
   ]
  },
  {
   "cell_type": "markdown",
   "metadata": {},
   "source": [
    "Create a dictionary for each one of the string inputs"
   ]
  },
  {
   "cell_type": "code",
   "execution_count": 5,
   "metadata": {
    "collapsed": false
   },
   "outputs": [],
   "source": [
    "itemdict = getItemDict(df['target'])\n",
    "f1code=getItemDict(df['feature1'])\n",
    "f2code=getItemDict(df['feature2'])\n",
    "f3code=getItemDict(df['feature3'])\n",
    "f4code=getItemDict(df['feature4'])\n",
    "f5code=getItemDict(df['feature5'])\n",
    "f6code=getItemDict(df['feature6'])"
   ]
  },
  {
   "cell_type": "markdown",
   "metadata": {},
   "source": [
    "Map all of the factors to numerical values"
   ]
  },
  {
   "cell_type": "code",
   "execution_count": 6,
   "metadata": {
    "collapsed": true
   },
   "outputs": [],
   "source": [
    "def getCodeorNone(x,dictionary):\n",
    "    output = 0\n",
    "    try:\n",
    "        output=dictionary[x]\n",
    "    except:\n",
    "        output=dictionary['None']\n",
    "    return output\n",
    "\n",
    "df['feature1-code'] = df['feature1'].apply(lambda x: getCodeorNone(x,f1code))\n",
    "df['feature2-code'] = df['feature2'].apply(lambda x: getCodeorNone(x,f2code))\n",
    "df['feature3-code'] = df['feature3'].apply(lambda x: getCodeorNone(x,f3code))\n",
    "df['feature4-code'] = df['feature4'].apply(lambda x: getCodeorNone(x,f4code))\n",
    "df['feature5-code'] = df['feature5'].apply(lambda x: getCodeorNone(x,f5code))\n",
    "df['feature6-code'] = df['feature6'].apply(lambda x: getCodeorNone(x,f6code))\n",
    "\n",
    "df['feature7-code'] = df['feature7'].apply(lambda x: getCodeorNone(x,itemdict))\n",
    "df['feature8-code'] = df['feature8'].apply(lambda x: getCodeorNone(x,itemdict))\n",
    "df['target-code'] = df['target'].apply(lambda x: getCodeorNone(x,itemdict))"
   ]
  },
  {
   "cell_type": "markdown",
   "metadata": {},
   "source": [
    "Create test/train split"
   ]
  },
  {
   "cell_type": "code",
   "execution_count": 8,
   "metadata": {
    "collapsed": false
   },
   "outputs": [],
   "source": [
    "train, test = train_test_split(df, test_size=0.2, random_state=23,stratify=df['target-code'])\n",
    "featurecolumns = ['feature1-code',\n",
    "              'feature2-code',\n",
    "              'feature3-code',\n",
    "              'feature4-code',\n",
    "              'feature5-code',\n",
    "              'feature6-code',\n",
    "              'feature7-code',\n",
    "              'feature8-code']\n",
    "\n",
    "features_train = train[featurecolumns].values\n",
    "labels_train = train['target-code'].values\n",
    "features_test = test[featurecolumns].values\n",
    "labels_test = test['target-code'].values\n",
    "\n",
    "dtrain = xgb.DMatrix(features_train, label=labels_train)\n",
    "dtest = xgb.DMatrix(features_test, label=labels_test)"
   ]
  },
  {
   "cell_type": "code",
   "execution_count": 9,
   "metadata": {
    "collapsed": true
   },
   "outputs": [],
   "source": [
    "# user defined evaluation function, return a pair metric_name, result\n",
    "# This function takes the top 10 predictions and checks to see if the target label is in that set.\n",
    "# The error is 1 - the fraction of rows where the label is in the top 10.\n",
    "def evalerror(preds, dtrain,topNvalue=10):\n",
    "    labels = dtrain.get_label()\n",
    "    vals = np.argpartition(preds,-topNvalue)[:,-topNvalue:]\n",
    "    error = 1 - float(vals.size - np.count_nonzero((vals.transpose() - labels).transpose()))/len(labels)\n",
    "    # return a pair metric_name, result\n",
    "    return 'error', error"
   ]
  },
  {
   "cell_type": "code",
   "execution_count": 10,
   "metadata": {
    "collapsed": false
   },
   "outputs": [
    {
     "name": "stdout",
     "output_type": "stream",
     "text": [
      "[0]\teval-merror:0.771175\ttrain-merror:0.759623\teval-error:0.367181\ttrain-error:0.290606\n",
      "Multiple eval metrics have been passed: 'train-error' will be used for early stopping.\n",
      "\n",
      "Will train until train-error hasn't improved in 10 rounds.\n",
      "[1]\teval-merror:0.761348\ttrain-merror:0.741177\teval-error:0.339261\ttrain-error:0.262489\n",
      "[2]\teval-merror:0.755264\ttrain-merror:0.728776\teval-error:0.32803\ttrain-error:0.249932\n",
      "[3]\teval-merror:0.753549\ttrain-merror:0.721054\teval-error:0.324286\ttrain-error:0.236517\n",
      "[4]\teval-merror:0.753393\ttrain-merror:0.714464\teval-error:0.320387\ttrain-error:0.228171\n",
      "[5]\teval-merror:0.750273\ttrain-merror:0.705183\teval-error:0.314927\ttrain-error:0.221425\n",
      "[6]\teval-merror:0.748089\ttrain-merror:0.699723\teval-error:0.313836\ttrain-error:0.212261\n",
      "[7]\teval-merror:0.746373\ttrain-merror:0.693874\teval-error:0.312588\ttrain-error:0.208361\n",
      "[8]\teval-merror:0.744034\ttrain-merror:0.689818\teval-error:0.31134\ttrain-error:0.203291\n",
      "[9]\teval-merror:0.743098\ttrain-merror:0.686581\teval-error:0.30978\ttrain-error:0.199275\n",
      "[10]\teval-merror:0.744658\ttrain-merror:0.684358\teval-error:0.308532\ttrain-error:0.195336\n",
      "[11]\teval-merror:0.745126\ttrain-merror:0.679484\teval-error:0.308064\ttrain-error:0.190968\n",
      "[12]\teval-merror:0.743722\ttrain-merror:0.676364\teval-error:0.306348\ttrain-error:0.187654\n",
      "[13]\teval-merror:0.74497\ttrain-merror:0.671645\teval-error:0.306816\ttrain-error:0.184534\n",
      "[14]\teval-merror:0.743878\ttrain-merror:0.668136\teval-error:0.305881\ttrain-error:0.18079\n",
      "[15]\teval-merror:0.742786\ttrain-merror:0.665133\teval-error:0.304321\ttrain-error:0.177787\n",
      "[16]\teval-merror:0.743878\ttrain-merror:0.662481\teval-error:0.302605\ttrain-error:0.175292\n",
      "[17]\teval-merror:0.743566\ttrain-merror:0.660102\teval-error:0.301357\ttrain-error:0.171977\n",
      "[18]\teval-merror:0.743566\ttrain-merror:0.658854\teval-error:0.299173\ttrain-error:0.169442\n",
      "[19]\teval-merror:0.743722\ttrain-merror:0.656085\teval-error:0.300733\ttrain-error:0.166751\n",
      "[20]\teval-merror:0.742006\ttrain-merror:0.654604\teval-error:0.299797\ttrain-error:0.165113\n",
      "[21]\teval-merror:0.742474\ttrain-merror:0.652537\teval-error:0.299329\ttrain-error:0.163436\n",
      "[22]\teval-merror:0.74185\ttrain-merror:0.651601\teval-error:0.297613\ttrain-error:0.16176\n",
      "[23]\teval-merror:0.74263\ttrain-merror:0.649963\teval-error:0.297146\ttrain-error:0.159927\n",
      "[24]\teval-merror:0.740758\ttrain-merror:0.648091\teval-error:0.297146\ttrain-error:0.158991\n",
      "[25]\teval-merror:0.739822\ttrain-merror:0.647545\teval-error:0.296366\ttrain-error:0.157509\n",
      "[26]\teval-merror:0.74107\ttrain-merror:0.646999\teval-error:0.29543\ttrain-error:0.1563\n",
      "[27]\teval-merror:0.740134\ttrain-merror:0.645205\teval-error:0.296522\ttrain-error:0.155052\n",
      "[28]\teval-merror:0.740758\ttrain-merror:0.64462\teval-error:0.296834\ttrain-error:0.154272\n",
      "[29]\teval-merror:0.739978\ttrain-merror:0.644503\teval-error:0.297302\ttrain-error:0.153297\n"
     ]
    }
   ],
   "source": [
    "## Train Model\n",
    "num_round=30\n",
    "param = {'max_depth': 5, \n",
    "    'eta': 0.2, \n",
    "    'silent': 0, \n",
    "    'gamma':2,\n",
    "    'objective':'multi:softprob',\n",
    "    'num_class':len(np.unique(labels_train))+1,\n",
    "    'seed':32}\n",
    "watchlist = [(dtest, 'eval'), (dtrain, 'train')]\n",
    "bst = xgb.train(param, dtrain, num_round, watchlist, feval=evalerror, early_stopping_rounds=10)"
   ]
  },
  {
   "cell_type": "markdown",
   "metadata": {},
   "source": [
    "Save the model."
   ]
  },
  {
   "cell_type": "code",
   "execution_count": 14,
   "metadata": {
    "collapsed": true
   },
   "outputs": [],
   "source": [
    "pickle.dump(bst, open(\"xgb-python.model\", \"wb\"))"
   ]
  },
  {
   "cell_type": "markdown",
   "metadata": {},
   "source": [
    "Get predictions on the test set and get the \"Traditional\" accuracy - how likely was the top prediction to match the label."
   ]
  },
  {
   "cell_type": "code",
   "execution_count": 26,
   "metadata": {
    "collapsed": false
   },
   "outputs": [
    {
     "name": "stdout",
     "output_type": "stream",
     "text": [
      "Accuracy: 0.26002183746685387\n"
     ]
    }
   ],
   "source": [
    "preds = bst.predict(dtest, ntree_limit=bst.best_ntree_limit)\n",
    "test_labels = dtest.get_label()\n",
    "test_labels[:10]\n",
    "toppreds = np.argmax(preds,axis=1)\n",
    "print(\"Accuracy: {}\".format(accuracy_score(test_labels,toppreds)))"
   ]
  },
  {
   "cell_type": "markdown",
   "metadata": {},
   "source": [
    "Check a random sample to double-check the top N prediction error."
   ]
  },
  {
   "cell_type": "code",
   "execution_count": 32,
   "metadata": {
    "collapsed": false
   },
   "outputs": [
    {
     "name": "stdout",
     "output_type": "stream",
     "text": [
      "Testing random entry:\n",
      "Actual: 163.0\n",
      "Top: 113\n",
      "Top 10 Predictions: [ 13  11 123  14 119  89 163 113 118 146]\n",
      "In-sample accuracy: 0.7026984869755108\n"
     ]
    }
   ],
   "source": [
    "print(\"Testing random entry:\")\n",
    "topNvalue = 10\n",
    "n = np.random.choice(len(test_labels))\n",
    "a = preds[n,:]\n",
    "topN=np.argpartition(preds,-topNvalue)[:,-topNvalue:]\n",
    "print(\"Actual: {}\".format(test_labels[n]))\n",
    "print(\"Top: {}\".format(toppreds[n]))\n",
    "print(\"Top 10 Predictions: {}\".format(topN[n,]))\n",
    "\n",
    "# Get the accuracy in the top N results\n",
    "acc=float(topN.size - np.count_nonzero((topN.transpose() - test_labels).transpose()))/len(test_labels)\n",
    "print(\"In-sample accuracy: {}\".format(acc))   "
   ]
  },
  {
   "cell_type": "code",
   "execution_count": 39,
   "metadata": {
    "collapsed": false
   },
   "outputs": [
    {
     "data": {
      "text/plain": [
       "(0, 1)"
      ]
     },
     "execution_count": 39,
     "metadata": {},
     "output_type": "execute_result"
    },
    {
     "data": {
      "image/png": "[encoded data removed]",
      "text/plain": [
       "<matplotlib.figure.Figure at 0x178f030f550>"
      ]
     },
     "metadata": {},
     "output_type": "display_data"
    }
   ],
   "source": [
    "score_eval = pd.DataFrame({'topN':range(1,40)})\n",
    "score_eval['error'] = score_eval['topN'].apply(lambda x: evalerror(preds,dtest,x)[1])\n",
    "score_eval.plot(x='topN',y='error',kind='scatter')\n",
    "plt.ylim(0,1)"
   ]
  },
  {
   "cell_type": "markdown",
   "metadata": {},
   "source": [
    "Verify that the reload and scoring functions work."
   ]
  },
  {
   "cell_type": "code",
   "execution_count": 42,
   "metadata": {
    "collapsed": false
   },
   "outputs": [
    {
     "data": {
      "text/plain": [
       "0.7026984869755108"
      ]
     },
     "execution_count": 42,
     "metadata": {},
     "output_type": "execute_result"
    }
   ],
   "source": [
    "bst2 = pickle.load(open(\"xgb-python.model\", \"rb\"))\n",
    "preds2 = bst2.predict(dtest, ntree_limit=bst2.best_ntree_limit)\n",
    "1-evalerror(preds2,dtest)[1]"
   ]
  }
 ],
 "metadata": {
  "kernelspec": {
   "display_name": "Python 3",
   "language": "python",
   "name": "python3"
  },
  "language_info": {
   "codemirror_mode": {
    "name": "ipython",
    "version": 3
   },
   "file_extension": ".py",
   "mimetype": "text/x-python",
   "name": "python",
   "nbconvert_exporter": "python",
   "pygments_lexer": "ipython3",
   "version": "3.6.0"
  }
 },
 "nbformat": 4,
 "nbformat_minor": 2
}
